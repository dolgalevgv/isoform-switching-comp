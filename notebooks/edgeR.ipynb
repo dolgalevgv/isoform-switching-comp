{
 "cells": [
  {
   "cell_type": "code",
   "execution_count": 2,
   "id": "394187c0-f697-4b34-9653-f547b789e5bb",
   "metadata": {},
   "outputs": [],
   "source": [
    "library(dplyr)\n",
    "library(edgeR)\n",
    "library(readr)"
   ]
  },
  {
   "cell_type": "code",
   "execution_count": 3,
   "id": "bd0ae75c-722e-4ac0-8684-748d0e147995",
   "metadata": {},
   "outputs": [
    {
     "data": {
      "text/plain": [
       "[1] '3.40.2'"
      ]
     },
     "metadata": {},
     "output_type": "display_data"
    }
   ],
   "source": [
    "packageVersion(\"edgeR\")"
   ]
  },
  {
   "cell_type": "code",
   "execution_count": 4,
   "id": "458cdc21-ff6b-4a24-b852-619642079d8a",
   "metadata": {
    "tags": []
   },
   "outputs": [],
   "source": [
    "tcga_groups <- readxl::read_excel(\"../data/processed/tcga_groups.xlsx\")\n",
    "\n",
    "tcga_groups = tcga_groups %>%\n",
    "    dplyr::filter(normal > 20)\n",
    "\n",
    "tcga_groups = tcga_groups$project"
   ]
  },
  {
   "cell_type": "code",
   "execution_count": 5,
   "id": "c001dbd5-fb70-4aae-9895-b5a2effda6db",
   "metadata": {},
   "outputs": [
    {
     "name": "stderr",
     "output_type": "stream",
     "text": [
      "brca done\n",
      "\n",
      "kirc done\n",
      "\n",
      "thca done\n",
      "\n",
      "luad done\n",
      "\n",
      "prad done\n",
      "\n",
      "lusc done\n",
      "\n",
      "lihc done\n",
      "\n",
      "hnsc done\n",
      "\n",
      "coad done\n",
      "\n",
      "stad done\n",
      "\n",
      "kirp done\n",
      "\n",
      "kich done\n",
      "\n"
     ]
    }
   ],
   "source": [
    "for (ctype in tcga_groups) {\n",
    "    est_counts <- readr::read_csv(sprintf(\"../data/processed/tcga_type_data/%s_est_counts.csv\", ctype), show_col_types = FALSE)\n",
    "\n",
    "    est_counts = est_counts %>% \n",
    "        tibble::column_to_rownames(\"isoform_id\") %>%\n",
    "        dplyr::select(order(colnames(.)))\n",
    "    \n",
    "    design_matrix <- readr::read_csv(sprintf(\"../data/processed/tcga_type_data/%s_dm.csv\", ctype), show_col_types = FALSE)\n",
    "    \n",
    "    design_matrix = design_matrix %>%\n",
    "        dplyr::arrange(sampleID)\n",
    "    \n",
    "    conditions <- design_matrix$condition\n",
    "    \n",
    "    deg <- edgeR::DGEList(counts = est_counts, group = conditions)\n",
    "    \n",
    "    filter_edgeR <- edgeR::filterByExpr(deg)\n",
    "    deg = deg[filter_edgeR, , keep.lib.sizes = FALSE]\n",
    "    \n",
    "    deg <- edgeR::calcNormFactors(deg)\n",
    "    design <- model.matrix(~conditions)\n",
    "    \n",
    "    deg <- edgeR::estimateDisp(deg, design)\n",
    "    \n",
    "    fit <- edgeR::glmQLFit(deg, design)\n",
    "    qlf <- edgeR::glmQLFTest(fit, coef = 2)\n",
    "    \n",
    "    write.csv(edgeR::topTags(qlf, n = nrow(qlf$table)), sprintf(\"../results/general/%s_edger.csv\", ctype))\n",
    "}"
   ]
  },
  {
   "cell_type": "code",
   "execution_count": null,
   "id": "7199fcfd-ebfc-4938-b3b8-746db99466f8",
   "metadata": {},
   "outputs": [],
   "source": []
  }
 ],
 "metadata": {
  "kernelspec": {
   "display_name": "R",
   "language": "R",
   "name": "ir"
  },
  "language_info": {
   "codemirror_mode": "r",
   "file_extension": ".r",
   "mimetype": "text/x-r-source",
   "name": "R",
   "pygments_lexer": "r",
   "version": "4.2.3"
  }
 },
 "nbformat": 4,
 "nbformat_minor": 5
}

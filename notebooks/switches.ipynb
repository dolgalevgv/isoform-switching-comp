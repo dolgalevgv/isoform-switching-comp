{
 "cells": [
  {
   "cell_type": "code",
   "execution_count": 1,
   "id": "f8f10a56-b65c-4ac1-9e27-3222a5e3adc8",
   "metadata": {},
   "outputs": [],
   "source": [
    "import numpy as np\n",
    "import pandas as pd\n",
    "from statsmodels.stats.multitest import fdrcorrection"
   ]
  },
  {
   "cell_type": "code",
   "execution_count": 2,
   "id": "f7140bfd-534f-4e3b-859e-8a2c4262a927",
   "metadata": {},
   "outputs": [],
   "source": [
    "gencode_23 = pd.read_csv('../data/processed/ensembl_main.csv', usecols=[0, 1], index_col=0).squeeze('columns')"
   ]
  },
  {
   "cell_type": "code",
   "execution_count": 3,
   "id": "074ce787-7d6a-44b5-a306-f6b6bc00ddcc",
   "metadata": {},
   "outputs": [],
   "source": [
    "gencode_23 = gencode_23.replace('pk', 'MAPK20', regex=False)"
   ]
  },
  {
   "cell_type": "code",
   "execution_count": 4,
   "id": "b440e42d-5739-4e99-b555-96bc4ee3dc46",
   "metadata": {},
   "outputs": [],
   "source": [
    "def sep_normal(df):\n",
    "    def samplify(df):\n",
    "        samples_n = df.columns[df.columns.str.endswith('11')].to_list()\n",
    "        samples_c = df.columns[df.columns.str.endswith('01')].to_list()\n",
    "\n",
    "        return samples_n, samples_c\n",
    "    \n",
    "    samples_n, samples_c = samplify(df)\n",
    "        \n",
    "    return df[samples_n], df[samples_c]"
   ]
  },
  {
   "cell_type": "code",
   "execution_count": 5,
   "id": "453d2500-c353-4fcc-8289-a070c2d5e336",
   "metadata": {},
   "outputs": [],
   "source": [
    "tcga_groups = (\n",
    "    pd.read_excel('../data/processed/tcga_groups.xlsx', index_col=0)\n",
    "    .query('normal > 20')\n",
    "    .index.to_list()\n",
    ")"
   ]
  },
  {
   "cell_type": "code",
   "execution_count": 6,
   "id": "dbe4a6e0-8a3e-49f7-b34c-0fa9ea2da551",
   "metadata": {},
   "outputs": [],
   "source": [
    "ress = []\n",
    "\n",
    "for ctype in tcga_groups:\n",
    "    tpm = pd.read_csv(f'../data/processed/tcga_type_data/{ctype}_tpm.csv', index_col=[0, 1])\n",
    "    psi = np.abs(np.around((tpm / tpm.groupby(level=0).transform('sum')).fillna(0), 3))\n",
    "\n",
    "    tpm = tpm.droplevel(0)\n",
    "    psi = psi.droplevel(0)\n",
    "\n",
    "    saturn = (\n",
    "        pd.read_csv(f'../results/saturn/{ctype}_saturn.csv', index_col=0, usecols=[0, 5, 6, 7, 8])\n",
    "        .rename({'pval': 'dtu_pval',\n",
    "                 'regular_FDR': 'dtu_fdr_local',\n",
    "                 'empirical_pval': 'dtu_epval',\n",
    "                 'empirical_FDR': 'dtu_efdr_local'}, axis=1)\n",
    "    )\n",
    "    edger = (\n",
    "        pd.read_csv(f'../results/general/{ctype}_edger.csv', index_col=0, usecols=[0, 1, 4, 5])\n",
    "        .rename({'logFC': 'log2fc',\n",
    "                 'PValue': 'dte_pval',\n",
    "                 'FDR': 'dte_fdr_local'}, axis=1)\n",
    "    )\n",
    "    tpm = tpm[tpm.index.isin(saturn.index)]\n",
    "    psi = psi[psi.index.isin(saturn.index)]\n",
    "    edger = edger[edger.index.isin(saturn.index)]\n",
    "\n",
    "    tpm_n, tpm_c = sep_normal(tpm)\n",
    "    psi_n, psi_c = sep_normal(psi)\n",
    "\n",
    "    res = (\n",
    "        pd.DataFrame(index=tpm.index)\n",
    "        .assign(ctype=ctype,\n",
    "                gene_name=tpm.index.map(gencode_23),\n",
    "                ie_n=tpm_n.mean(1),\n",
    "                ie_c=tpm_c.mean(1),\n",
    "                die=tpm_c.mean(1) - tpm_n.mean(1),\n",
    "                if_n=psi_n.mean(1),\n",
    "                if_c=psi_c.mean(1),\n",
    "                dif=psi_c.mean(1) - psi_n.mean(1))\n",
    "        .join(saturn)\n",
    "        .join(edger)\n",
    "    )\n",
    "    res['log2fc'] *= -1\n",
    "    \n",
    "    res = res.reset_index().dropna(subset='dtu_pval')\n",
    "\n",
    "    ress.append(res)\n",
    "    \n",
    "ress = pd.concat(ress)"
   ]
  },
  {
   "cell_type": "code",
   "execution_count": 7,
   "id": "c4c655f6-a871-435c-8e57-f59d3647271f",
   "metadata": {},
   "outputs": [],
   "source": [
    "ress['dtu_efdr_global'] = fdrcorrection(ress['dtu_epval'])[1]\n",
    "ress['dte_fdr_global'] = fdrcorrection(ress['dte_pval'])[1]\n",
    "\n",
    "ress['is_dtu'] = (abs(ress['dif']) > 0.1) & (ress['dtu_efdr_global'] < 0.05)\n",
    "ress['is_dte'] = ress['dte_fdr_global'] < 0.05"
   ]
  },
  {
   "cell_type": "code",
   "execution_count": 8,
   "id": "2de905ed-01de-4ecd-9ff2-aefd68623e69",
   "metadata": {},
   "outputs": [],
   "source": [
    "ress = ress[['ctype', 'gene_name', 'ensembl_trs_id', 'ie_n', 'ie_c', 'die', 'log2fc', \n",
    "             'if_n', 'if_c', 'dif', 'dtu_pval', 'dtu_fdr_local', 'dtu_epval', 'dtu_efdr_local', \n",
    "             'dtu_efdr_global', 'is_dtu', 'dte_pval', 'dte_fdr_local', 'dte_fdr_global', 'is_dte']]\n",
    "\n",
    "ress.iloc[:, [3, 4, 5, 6, 7, 8, 9]] = np.around(ress.iloc[:, [3, 4, 5, 6, 7, 8, 9]], 3)"
   ]
  },
  {
   "cell_type": "code",
   "execution_count": 9,
   "id": "dfdfb384-4585-4300-b46f-38e5c932b153",
   "metadata": {},
   "outputs": [],
   "source": [
    "ress_dict = {\n",
    "    ctype: res\n",
    "    for ctype, res in ress.groupby('ctype')\n",
    "}\n",
    "ress_dtu = []\n",
    "\n",
    "for ctype in tcga_groups:\n",
    "    res = ress_dict[ctype]\n",
    "    \n",
    "    res.to_csv(f'../results/general/{ctype}_quant.csv', index=False)\n",
    "    \n",
    "    res_dtu = res.loc[res['is_dtu'], ['gene_name', 'ensembl_trs_id', 'dif', 'log2fc', 'is_dte']].set_index('gene_name')\n",
    "    \n",
    "    res_dtu_up = res_dtu[res_dtu['dif'] > 0.1]\n",
    "    res_dtu_down = res_dtu[res_dtu['dif'] < 0.1]\n",
    "    \n",
    "    # By joining on gene name, create all possible combinations of up and downregulated transcripts = isoform switches\n",
    "    res_dtu = (\n",
    "        res_dtu_up.join(res_dtu_down, how='inner', rsuffix='_n')\n",
    "        .sort_index()\n",
    "        .rename({'ensembl_trs_id': 'ensembl_trs_id_c', \n",
    "                 'dif': 'dif_c',\n",
    "                 'log2fc': 'log2fc_c', \n",
    "                 'is_dte': 'is_dte_c'}, axis=1)\n",
    "    )\n",
    "    res_dtu['ctype'] = ctype\n",
    "    res_dtu = res_dtu.reset_index()\n",
    "\n",
    "    ress_dtu.append(res_dtu)\n",
    "    \n",
    "ress_dtu = pd.concat(ress_dtu)\n",
    "\n",
    "ress_dtu = ress_dtu[['ctype'] + ress_dtu.columns[:-1].to_list()]"
   ]
  },
  {
   "cell_type": "code",
   "execution_count": 10,
   "id": "f1fca49d-69a4-4d20-a720-37dd86bd9021",
   "metadata": {},
   "outputs": [],
   "source": [
    "ress_dtu_dict = {\n",
    "    ctype: res_dtu\n",
    "    for ctype, res_dtu in ress_dtu.groupby('ctype')\n",
    "}\n",
    "ress_freq = []\n",
    "\n",
    "for ctype in tcga_groups:\n",
    "    res = ress_dtu_dict[ctype]\n",
    "    \n",
    "    tpm = pd.read_csv(f'../data/processed/tcga_type_data/{ctype}_tpm.csv', index_col=1).drop('gene_name', axis=1)\n",
    "    tpm_n, tpm_c = sep_normal(tpm)\n",
    "    \n",
    "    res['freq_n'] = np.count_nonzero(tpm_n.loc[res['ensembl_trs_id_n']] > tpm_n.loc[res['ensembl_trs_id_c']].values, axis=1) / len(tpm_n.columns)\n",
    "    res['freq_c'] = np.count_nonzero(tpm_c.loc[res['ensembl_trs_id_c']] > tpm_c.loc[res['ensembl_trs_id_n']].values, axis=1) / len(tpm_c.columns)\n",
    "    \n",
    "    ress_freq.append(res)\n",
    "    \n",
    "ress_freq = pd.concat(ress_freq)"
   ]
  },
  {
   "cell_type": "code",
   "execution_count": 11,
   "id": "bdfb2329-2213-47ab-9659-d234c08522ce",
   "metadata": {},
   "outputs": [],
   "source": [
    "ress_freq['freq_prod'] = ress_freq['freq_n'] * ress_freq['freq_c']\n",
    "ress_freq.iloc[:, -3:] = np.around(ress_freq.iloc[:, -3:], 3)"
   ]
  },
  {
   "cell_type": "code",
   "execution_count": 12,
   "id": "a6e5a5aa-c1aa-4cb9-a918-78397209b378",
   "metadata": {},
   "outputs": [],
   "source": [
    "ress_freq.to_csv('../results/switches.csv', index=False)"
   ]
  },
  {
   "cell_type": "code",
   "execution_count": null,
   "id": "401ad1b3-93c2-4801-add2-c7c8199f7fbc",
   "metadata": {},
   "outputs": [],
   "source": []
  }
 ],
 "metadata": {
  "kernelspec": {
   "display_name": "Python 3 (ipykernel)",
   "language": "python",
   "name": "python3"
  },
  "language_info": {
   "codemirror_mode": {
    "name": "ipython",
    "version": 3
   },
   "file_extension": ".py",
   "mimetype": "text/x-python",
   "name": "python",
   "nbconvert_exporter": "python",
   "pygments_lexer": "ipython3",
   "version": "3.10.4"
  }
 },
 "nbformat": 4,
 "nbformat_minor": 5
}
